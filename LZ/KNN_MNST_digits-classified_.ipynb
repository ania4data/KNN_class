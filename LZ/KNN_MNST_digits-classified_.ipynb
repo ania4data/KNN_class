{
 "cells": [
  {
   "cell_type": "code",
   "execution_count": 2,
   "metadata": {},
   "outputs": [],
   "source": [
    "import numpy as np\n",
    "import pandas as pd\n",
    "import sortedcontainers as SortedList\n",
    "from datetime import datetime\n",
    "import matplotlib.pyplot as plt\n",
    "import matplotlib.image as mpimg\n",
    "from sklearn.utils import shuffle"
   ]
  },
  {
   "cell_type": "code",
   "execution_count": 20,
   "metadata": {},
   "outputs": [],
   "source": [
    "count=0\n",
    "\n",
    "#label_map=['0','1','2','3','4','5','6','7','8','9']\n",
    "img_matrix=[]\n",
    "expr=[]\n",
    "img_norm_global=[]\n",
    "img_vec_=[]\n",
    "\n",
    "for line in open('Classified Data'):     #file consist of 35887 entry, but 35875 not zero max of pixel non zero each entry has 1 digit for emotion then and array of 2304 pixel intensity (48*48) and 1 text for name (traning/test) not necessary here\n",
    "    count=count+1\n",
    "    #print(count)\n",
    "\n",
    "        \n",
    "    list_=line.replace('\\n',' ').replace(',',' ').strip().split(' ')\n",
    "    #print(list_)\n",
    "    #if (count<5):\n",
    "        \n",
    "    #    print(len(list_))\n",
    "    #    pass\n",
    "    #txt=list_[len(list_)-1]\n",
    "    if(count>1):\n",
    "        image_vec=np.array((list_[1:len(list_)-1]))   #list string\n",
    "        image_vec_i=[float(i) for i in image_vec]   # list to integer\n",
    "    \n",
    "        if(len(list_)==12 and np.max(image_vec_i)!=0 and count>1):     #28*28+1\n",
    "            \n",
    "            expr_=int(list_[11])\n",
    "            expr.append(expr_)\n",
    "        \n",
    "            image_vec_i=np.array(image_vec_i)\n",
    "            img_vec_.append(image_vec_i)\n",
    "            image_vec_i_norm=np.array(image_vec_i)   #/255.0                              #np.max(image_vec_i)\n",
    "            img_matrix.append(image_vec_i_norm)             #for solving\n",
    "            #len_N=int(np.sqrt(np.shape(image_vec_i)[0]))\n",
    "            #img=image_vec_i.reshape(len_N,len_N)\n",
    "            #img_norm=img/255.0                              #(np.max(img))\n",
    "            #print(np.max(img))\n",
    "            #img_norm_global.append(img_norm)     #for plotting figs\n",
    "        \n",
    "        \n"
   ]
  },
  {
   "cell_type": "code",
   "execution_count": 21,
   "metadata": {},
   "outputs": [
    {
     "data": {
      "text/plain": [
       "(1000, 10)"
      ]
     },
     "execution_count": 21,
     "metadata": {},
     "output_type": "execute_result"
    }
   ],
   "source": [
    "np.shape(img_matrix)"
   ]
  },
  {
   "cell_type": "code",
   "execution_count": 22,
   "metadata": {},
   "outputs": [],
   "source": [
    "\n",
    "N=np.shape(img_matrix)[0]\n",
    "D=np.shape(img_matrix)[1]\n",
    "\n",
    "YY=np.random.randn(N)\n",
    "XX=np.zeros((N,D))\n",
    "\n",
    "limit_=N                       #incase don't want all 42000 samples, change it to other number than N\n",
    "        \n",
    "for i in range(limit_):\n",
    "    YY[i]=expr[i]    #expressions\n",
    "    for j in range(D):\n",
    "                \n",
    "        XX[i,j]=img_matrix[i][j]     #pixels into XX\n",
    " \n",
    "       \n"
   ]
  },
  {
   "cell_type": "code",
   "execution_count": 30,
   "metadata": {},
   "outputs": [
    {
     "name": "stdout",
     "output_type": "stream",
     "text": [
      "i_k 0\n",
      "i_k 1\n",
      "i_k 2\n",
      "i_k 3\n",
      "i_k 4\n",
      "i_k 5\n",
      "i_k 6\n",
      "i_k 7\n",
      "i_k 8\n",
      "i_k 9\n",
      "i_k 10\n",
      "i_k 11\n",
      "i_k 12\n",
      "i_k 13\n",
      "i_k 14\n",
      "i_k 15\n",
      "i_k 16\n",
      "i_k 17\n",
      "i_k 18\n",
      "i_k 19\n",
      "i_k 20\n",
      "i_k 21\n",
      "i_k 22\n",
      "i_k 23\n",
      "i_k 24\n",
      "i_k 25\n",
      "i_k 26\n",
      "i_k 27\n",
      "i_k 28\n",
      "i_k 29\n",
      "i_k 30\n",
      "i_k 31\n",
      "i_k 32\n",
      "i_k 33\n",
      "i_k 34\n",
      "i_k 35\n",
      "i_k 36\n",
      "i_k 37\n",
      "i_k 38\n",
      "i_k 39\n"
     ]
    }
   ],
   "source": [
    "Xtrain=XX[0:500,:]\n",
    "Ytrain=YY[0:500]\n",
    "\n",
    "Xtest=XX[500:1000,:]\n",
    "Ytest=YY[500:1000]\n",
    "\n",
    "Y_pred=np.zeros(500)\n",
    "#print(Y_pred)\n",
    "\n",
    "dist_list=[]\n",
    "j_list=[]\n",
    "i_list=[]\n",
    "y_list=[]\n",
    "K_list=[]\n",
    "count_list=[]\n",
    "accuracy_vec=[]\n",
    "accuracy_vec2=[]\n",
    "\n",
    "Xnotbase=Xtest          #Xtrain\n",
    "Ynotbase=Ytest         #Ytrain\n",
    "\n",
    "K=40\n",
    "#K_K=np.array(range([K])\n",
    "\n",
    "for i_k in range(K):   #range(K):    K_K\n",
    "    print('i_k',i_k)\n",
    "\n",
    "    for i,x in enumerate(Xnotbase):   #pick a point loop over all domain for distances\n",
    "        #print('i',i)\n",
    "        #print(i,j)\n",
    "        for j,xt in enumerate(Xtrain):\n",
    "            dis=np.dot((x-xt),(x-xt))\n",
    "            dist_list.append(dis)\n",
    "            #j_list.append(j)\n",
    "            #i_list.append(i)\n",
    "            y_list.append(Ytrain[j])\n",
    "            #print(i,j,dis,Ytrain[j])\n",
    "        #print('\\n')   \n",
    "        #zipped=zip(i_list,j_list,dist_list,y_list)   \n",
    "        zipped=zip(dist_list,y_list)  \n",
    "        #print('*********')\n",
    "\n",
    "        zipped_sorted=sorted(zipped, key=lambda xx: xx[0])\n",
    "        #print('\\n')\n",
    "        #print(zipped_sorted)\n",
    "        #print('\\n')\n",
    "        #print('----------')\n",
    "        for ii in range(i_k+1):\n",
    "            #if (ii==K):\n",
    "            #print(i,ii,zipped_sorted[ii],zipped_sorted[ii][1])\n",
    "            K_list.append(int(zipped_sorted[ii][1]))\n",
    "        #print(K_list)\n",
    "        #print('%%%%%%%%%%%%%%%%%%')\n",
    "        #print(K,i,j_list[K],zipped_sorted[K])\n",
    "        max_count=0\n",
    "        #for iii in range(10):\n",
    "        for iii in K_list:\n",
    "            #print(iii,K_list.count(iii))\n",
    "            if(K_list.count(iii)>max_count):\n",
    "                max_count=K_list.count(iii)\n",
    "                max_int=iii\n",
    "        #print('++')\n",
    "        #print(max_int,max_count) \n",
    "        Y_pred[i]=max_int\n",
    "        dist_list=[]\n",
    "        j_list=[]   \n",
    "        i_list=[]\n",
    "        y_list=[]\n",
    "        K_list=[]\n",
    "        count_list=[]\n",
    "        #print('----------')\n",
    "        #print('----------')\n",
    "        #print('\\n')\n",
    "    #print(Y_pred)\n",
    "    accuracy=np.mean(Y_pred==Ynotbase) \n",
    "    accuracy_vec2.append(accuracy)\n",
    "    #Y_pred=np.zeros(500)\n",
    "    #print(accuracy)\n",
    "    "
   ]
  },
  {
   "cell_type": "code",
   "execution_count": 17,
   "metadata": {},
   "outputs": [
    {
     "name": "stdout",
     "output_type": "stream",
     "text": [
      "[[0.91391733 1.16207271 0.56794585 ... 0.87942209 1.23140944 1.        ]\n",
      " [0.6356319  1.00372163 0.53534235 ... 0.62155222 1.4927016  0.        ]\n",
      " [0.72135981 1.20149262 0.92198973 ... 0.95787702 1.28559679 0.        ]\n",
      " ...\n",
      " [0.8726894  1.53173392 0.85128922 ... 1.22727063 1.460254   0.        ]\n",
      " [1.17166201 1.35742736 0.6529191  ... 1.49956533 1.45096636 1.        ]\n",
      " [0.7434139  1.34653707 1.00811523 ... 0.91078265 1.5886097  0.        ]]\n"
     ]
    }
   ],
   "source": [
    "print(Xtrain)"
   ]
  },
  {
   "cell_type": "code",
   "execution_count": 19,
   "metadata": {},
   "outputs": [
    {
     "name": "stdout",
     "output_type": "stream",
     "text": [
      "[[0.5707578  0.79897564 0.69913596 ... 1.08558563 1.67803922 1.        ]\n",
      " [0.71311797 1.21664681 0.69904783 ... 1.05733406 1.23502725 0.        ]\n",
      " [1.29650806 1.02050117 0.63923511 ... 1.58867497 1.26822477 1.        ]\n",
      " ...\n",
      " [1.13546983 0.98246233 0.78190516 ... 0.91919143 1.385504   1.        ]\n",
      " [1.08489449 0.86176917 0.40715771 ... 1.27745578 1.18806277 1.        ]\n",
      " [0.83745954 0.96118352 0.41700599 ... 1.25718998 1.36483726 1.        ]]\n"
     ]
    }
   ],
   "source": [
    "print(Xtest)"
   ]
  },
  {
   "cell_type": "code",
   "execution_count": 31,
   "metadata": {},
   "outputs": [],
   "source": [
    "accuracy_test=accuracy_vec2\n",
    "#print(accuracy_train,accuracy_test)"
   ]
  },
  {
   "cell_type": "code",
   "execution_count": 34,
   "metadata": {},
   "outputs": [
    {
     "data": {
      "text/plain": [
       "(0.9, 1.01)"
      ]
     },
     "execution_count": 34,
     "metadata": {},
     "output_type": "execute_result"
    },
    {
     "data": {
      "image/png": "[encoded data removed]",
      "text/plain": [
       "<Figure size 432x288 with 1 Axes>"
      ]
     },
     "metadata": {},
     "output_type": "display_data"
    }
   ],
   "source": [
    "plt.plot(np.array(range(K)),accuracy_train,label='Train')\n",
    "plt.plot(np.array(range(K)),accuracy_test,label='Test')\n",
    "plt.legend()\n",
    "plt.ylim(0.9,1.01)"
   ]
  },
  {
   "cell_type": "code",
   "execution_count": 75,
   "metadata": {},
   "outputs": [
    {
     "data": {
      "text/plain": [
       "[(9, 0.0, 3.0), (5, 84.99800076893503, 0.0), (2, 98.77390234525183, 1.0)]"
      ]
     },
     "execution_count": 75,
     "metadata": {},
     "output_type": "execute_result"
    }
   ],
   "source": [
    "zipped_sorted[0:3]"
   ]
  },
  {
   "cell_type": "code",
   "execution_count": null,
   "metadata": {},
   "outputs": [],
   "source": []
  },
  {
   "cell_type": "code",
   "execution_count": null,
   "metadata": {},
   "outputs": [],
   "source": [
    "K=1\n",
    "\n",
    "for i in range(limit_):\n",
    "    for j in range(D):\n",
    "        \n",
    "        \n",
    "        \n",
    "        \n",
    "\n"
   ]
  },
  {
   "cell_type": "code",
   "execution_count": 24,
   "metadata": {},
   "outputs": [
    {
     "data": {
      "text/plain": [
       "(42000, 784)"
      ]
     },
     "execution_count": 24,
     "metadata": {},
     "output_type": "execute_result"
    }
   ],
   "source": [
    "np.shape(XX)"
   ]
  },
  {
   "cell_type": "code",
   "execution_count": 27,
   "metadata": {},
   "outputs": [
    {
     "name": "stdout",
     "output_type": "stream",
     "text": [
      "[ 5876 34857 21430 15338 36282 24155 18270 29409 26654   578]\n"
     ]
    },
    {
     "data": {
      "image/png": "[encoded data removed]",
      "text/plain": [
       "<Figure size 288x288 with 1 Axes>"
      ]
     },
     "metadata": {},
     "output_type": "display_data"
    },
    {
     "data": {
      "image/png": "[encoded data removed]",
      "text/plain": [
       "<Figure size 288x288 with 1 Axes>"
      ]
     },
     "metadata": {},
     "output_type": "display_data"
    },
    {
     "data": {
      "image/png": "[encoded data removed]",
      "text/plain": [
       "<Figure size 288x288 with 1 Axes>"
      ]
     },
     "metadata": {},
     "output_type": "display_data"
    },
    {
     "data": {
      "image/png": "[encoded data removed]",
      "text/plain": [
       "<Figure size 288x288 with 1 Axes>"
      ]
     },
     "metadata": {},
     "output_type": "display_data"
    },
    {
     "data": {
      "image/png": "[encoded data removed]",
      "text/plain": [
       "<Figure size 288x288 with 1 Axes>"
      ]
     },
     "metadata": {},
     "output_type": "display_data"
    },
    {
     "data": {
      "image/png": "[encoded data removed]",
      "text/plain": [
       "<Figure size 288x288 with 1 Axes>"
      ]
     },
     "metadata": {},
     "output_type": "display_data"
    },
    {
     "data": {
      "image/png": "[encoded data removed]",
      "text/plain": [
       "<Figure size 288x288 with 1 Axes>"
      ]
     },
     "metadata": {},
     "output_type": "display_data"
    },
    {
     "data": {
      "image/png": "[encoded data removed]",
      "text/plain": [
       "<Figure size 288x288 with 1 Axes>"
      ]
     },
     "metadata": {},
     "output_type": "display_data"
    },
    {
     "data": {
      "image/png": "[encoded data removed]",
      "text/plain": [
       "<Figure size 288x288 with 1 Axes>"
      ]
     },
     "metadata": {},
     "output_type": "display_data"
    },
    {
     "data": {
      "image/png": "[encoded data removed]",
      "text/plain": [
       "<Figure size 288x288 with 1 Axes>"
      ]
     },
     "metadata": {},
     "output_type": "display_data"
    }
   ],
   "source": [
    "#random sample plotting\n",
    "N_samples=np.shape(YY)[0]\n",
    "\n",
    "picks=np.random.choice(N_samples, 10)\n",
    "print(picks)\n",
    "for i in picks:\n",
    "    plt.figure(figsize=(4,4))\n",
    "    plt.imshow(img_norm_global[i],cmap='gray')\n",
    "    plt.title(label_map[expr[i]])\n",
    "    plt.show()"
   ]
  },
  {
   "cell_type": "code",
   "execution_count": null,
   "metadata": {},
   "outputs": [],
   "source": [
    "K=5\n",
    "\n",
    "\n",
    "\n"
   ]
  }
 ],
 "metadata": {
  "kernelspec": {
   "display_name": "Python 3",
   "language": "python",
   "name": "python3"
  },
  "language_info": {
   "codemirror_mode": {
    "name": "ipython",
    "version": 3
   },
   "file_extension": ".py",
   "mimetype": "text/x-python",
   "name": "python",
   "nbconvert_exporter": "python",
   "pygments_lexer": "ipython3",
   "version": "3.6.4"
  }
 },
 "nbformat": 4,
 "nbformat_minor": 2
}
